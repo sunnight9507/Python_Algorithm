{
 "cells": [
  {
   "cell_type": "markdown",
   "metadata": {},
   "source": [
    "### [Z](https://www.acmicpc.net/problem/1074)"
   ]
  },
  {
   "cell_type": "code",
   "execution_count": 29,
   "metadata": {},
   "outputs": [
    {
     "name": "stdout",
     "output_type": "stream",
     "text": [
      "1 0 0\n",
      "0\n"
     ]
    }
   ],
   "source": [
    "N, r, c = map(int, input().split())\n",
    "\n",
    "def func(n,r,c):\n",
    "    if n == 1:\n",
    "        if r == 0:\n",
    "            if c == 0: return 0\n",
    "            else: return 1\n",
    "        else:\n",
    "            if c == 0: return 2\n",
    "            else: return 3\n",
    "\n",
    "    _n = (n-1) * 2\n",
    "    _r, _c = r // _n, c // _n\n",
    "#     print(_n, _r, _c)\n",
    "    \n",
    "    if _r == 0:\n",
    "        if _c == 0: return func(n-1,r % _n, c % _n)\n",
    "        else: return 4**(n-1) + func(n-1,r % _n, c % _n)\n",
    "    else:\n",
    "        if _c == 0: return 4**(n-1)*2 + func(n-1,r % _n, c % _n)\n",
    "        else: return 4**(n-1)*3 + func(n-1,r % _n, c % _n)\n",
    "            \n",
    "print(func(N,r,c))"
   ]
  },
  {
   "cell_type": "code",
   "execution_count": null,
   "metadata": {},
   "outputs": [],
   "source": []
  }
 ],
 "metadata": {
  "kernelspec": {
   "display_name": "Python 3",
   "language": "python",
   "name": "python3"
  },
  "language_info": {
   "codemirror_mode": {
    "name": "ipython",
    "version": 3
   },
   "file_extension": ".py",
   "mimetype": "text/x-python",
   "name": "python",
   "nbconvert_exporter": "python",
   "pygments_lexer": "ipython3",
   "version": "3.8.3"
  }
 },
 "nbformat": 4,
 "nbformat_minor": 4
}
