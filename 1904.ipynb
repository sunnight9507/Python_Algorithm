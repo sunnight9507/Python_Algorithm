{
 "cells": [
  {
   "cell_type": "markdown",
   "metadata": {},
   "source": [
    "1C1 \n",
    "\n",
    "1C1 1C1\n",
    "\n",
    "2C1 1C1\n",
    "\n",
    "1C1 3C1 1C1\n",
    "\n",
    "3C1 4C1 1C1\n",
    "\n",
    "1C1 4C2 5C1 1C1\n",
    "\n",
    "4C1 5C2 6C1 1C1\n",
    "\n",
    "1 2 3 5 8 13 21 34"
   ]
  },
  {
   "cell_type": "code",
   "execution_count": 13,
   "metadata": {},
   "outputs": [
    {
     "name": "stdout",
     "output_type": "stream",
     "text": [
      "8\n",
      "34\n"
     ]
    }
   ],
   "source": [
    "import itertools\n",
    "\n",
    "n = int(input())\n",
    "\n",
    "num_two_zero = n//2\n",
    "\n",
    "num_one = n%2\n",
    "\n",
    "sum_tile = 0\n",
    "\n",
    "for i in range(0,n//2+1):\n",
    "    #print(len(list(itertools.combinations(range(num_two_zero), num_one)))) \n",
    "    sum_tile += len(list(itertools.combinations(range(num_two_zero+num_one), num_one)))\n",
    "    num_two_zero -= 1\n",
    "    num_one += 2\n",
    "print(sum_tile%15746)"
   ]
  },
  {
   "cell_type": "code",
   "execution_count": null,
   "metadata": {},
   "outputs": [
    {
     "name": "stdout",
     "output_type": "stream",
     "text": [
      "9900\n"
     ]
    }
   ],
   "source": [
    "import sys\n",
    "sys.setrecursionlimit(1000000) \n",
    "\n",
    "def func(n,a,b):\n",
    "    if n == 0:\n",
    "        print((a+b)%15746)\n",
    "        return\n",
    "    \n",
    "    return func(n-1,a+b,max(a,b))   \n",
    "    \n",
    "n = int(input())\n",
    "a = 1\n",
    "b = 1\n",
    "if n == 1:\n",
    "    print(1)\n",
    "elif n == 2:\n",
    "    print(2)\n",
    "else:\n",
    "    func(n-2,a,b)"
   ]
  },
  {
   "cell_type": "code",
   "execution_count": 30,
   "metadata": {},
   "outputs": [
    {
     "name": "stdout",
     "output_type": "stream",
     "text": [
      "4\n",
      "5\n"
     ]
    }
   ],
   "source": [
    "def fibonacci(n):\n",
    "    a, b = 1, 0\n",
    "    for i in range(n+1):\n",
    "        a, b = b%15746, (a + b)%15746\n",
    "    return b\n",
    "\n",
    "n = int(input())\n",
    "print(fibonacci(n)%15746)"
   ]
  }
 ],
 "metadata": {
  "kernelspec": {
   "display_name": "Python 3",
   "language": "python",
   "name": "python3"
  },
  "language_info": {
   "codemirror_mode": {
    "name": "ipython",
    "version": 3
   },
   "file_extension": ".py",
   "mimetype": "text/x-python",
   "name": "python",
   "nbconvert_exporter": "python",
   "pygments_lexer": "ipython3",
   "version": "3.7.3"
  }
 },
 "nbformat": 4,
 "nbformat_minor": 2
}
